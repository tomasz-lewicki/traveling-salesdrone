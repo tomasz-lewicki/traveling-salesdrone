{
 "cells": [
  {
   "cell_type": "code",
   "execution_count": 59,
   "metadata": {},
   "outputs": [],
   "source": [
    "# could replace this with some standard ROS package, e.g. hector_geotiff looks good\n",
    "import geopy\n",
    "import geopy.distance\n",
    "\n",
    "# Define starting point.\n",
    "origin = geopy.Point(37.335118, -121.883843)\n",
    "# Define azimuth\n",
    "SPACE_AZIMUTH = -30\n",
    "\n",
    "def translate_point(origin, dx, dy): # dx, dy in meters\n",
    "\n",
    "    dist_x = geopy.distance.geodesic(meters = dx)\n",
    "    dist_y = geopy.distance.geodesic(meters = dy)\n",
    "    # move by x\n",
    "    left_upper = dist_x.destination(point=origin, bearing=SPACE_AZIMUTH)\n",
    "    # move by y\n",
    "    dest = dist_x.destination(point=left_upper, bearing=SPACE_AZIMUTH+90)\n",
    "    return dest"
   ]
  },
  {
   "cell_type": "code",
   "execution_count": 60,
   "metadata": {},
   "outputs": [
    {
     "data": {
      "text/plain": [
       "True"
      ]
     },
     "execution_count": 60,
     "metadata": {},
     "output_type": "execute_result"
    }
   ],
   "source": [
    "translate_point(origin, 0, 0) == origin"
   ]
  },
  {
   "cell_type": "code",
   "execution_count": 61,
   "metadata": {},
   "outputs": [],
   "source": [
    "import numpy as np\n",
    "points_metric = np.random.rand(30,2)*40 # generate 30 points in range (0-40)"
   ]
  },
  {
   "cell_type": "code",
   "execution_count": 62,
   "metadata": {},
   "outputs": [],
   "source": [
    "points_geo = [translate_point(origin, dx, dy) for (dx, dy) in points_metric]"
   ]
  },
  {
   "cell_type": "code",
   "execution_count": 63,
   "metadata": {},
   "outputs": [
    {
     "data": {
      "text/plain": [
       "[Point(37.33532562691484, -121.88377332628055, 0.0),\n",
       " Point(37.33554956994076, -121.88369817657293, 0.0),\n",
       " Point(37.33521679949817, -121.88380984576804, 0.0),\n",
       " Point(37.33544810571498, -121.88373222554068, 0.0),\n",
       " Point(37.3354180990033, -121.88374229504441, 0.0),\n",
       " Point(37.335171725410895, -121.88382497133712, 0.0),\n",
       " Point(37.335510729304545, -121.88371121058081, 0.0),\n",
       " Point(37.33555994108819, -121.88369469625472, 0.0),\n",
       " Point(37.33520903740686, -121.88381245050523, 0.0),\n",
       " Point(37.335293019237675, -121.88378426853969, 0.0),\n",
       " Point(37.335567269898675, -121.8836922368737, 0.0),\n",
       " Point(37.33521199772414, -121.88381145710702, 0.0),\n",
       " Point(37.335304387811384, -121.88378045355414, 0.0),\n",
       " Point(37.33535937529764, -121.88376200121365, 0.0),\n",
       " Point(37.33530245307457, -121.88378110279957, 0.0),\n",
       " Point(37.335144504109444, -121.88383410600849, 0.0),\n",
       " Point(37.33546122124616, -121.88372782429121, 0.0),\n",
       " Point(37.33548755823409, -121.88371898623805, 0.0),\n",
       " Point(37.33546260868161, -121.88372735870186, 0.0),\n",
       " Point(37.3355574627068, -121.88369552794258, 0.0),\n",
       " Point(37.33515405879447, -121.88383089973742, 0.0),\n",
       " Point(37.335127095261676, -121.8838399479017, 0.0),\n",
       " Point(37.33515469900328, -121.88383068490212, 0.0),\n",
       " Point(37.33547941022396, -121.88372172051344, 0.0),\n",
       " Point(37.33511986128073, -121.88384237540986, 0.0),\n",
       " Point(37.3351396021712, -121.88383575095412, 0.0),\n",
       " Point(37.335181907825564, -121.883821554414, 0.0),\n",
       " Point(37.33548878957818, -121.88371857302864, 0.0),\n",
       " Point(37.33538621762428, -121.88375299362414, 0.0),\n",
       " Point(37.335473603834494, -121.88372366899682, 0.0)]"
      ]
     },
     "execution_count": 63,
     "metadata": {},
     "output_type": "execute_result"
    }
   ],
   "source": [
    "points_geo"
   ]
  }
 ],
 "metadata": {
  "kernelspec": {
   "display_name": "Python 3",
   "language": "python",
   "name": "python3"
  },
  "language_info": {
   "codemirror_mode": {
    "name": "ipython",
    "version": 3
   },
   "file_extension": ".py",
   "mimetype": "text/x-python",
   "name": "python",
   "nbconvert_exporter": "python",
   "pygments_lexer": "ipython3",
   "version": "3.6.8"
  }
 },
 "nbformat": 4,
 "nbformat_minor": 2
}
